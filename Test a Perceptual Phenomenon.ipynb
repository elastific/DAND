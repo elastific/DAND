{
 "cells": [
  {
   "cell_type": "markdown",
   "metadata": {},
   "source": [
    "### Analyzing the Stroop Effect\n",
    "Perform the analysis in the space below. Remember to follow [the instructions](https://docs.google.com/document/d/1-OkpZLjG_kX9J6LIQ5IltsqMzVWjh36QpnP2RYpVdPU/pub?embedded=True) and review the [project rubric](https://review.udacity.com/#!/rubrics/71/view) before submitting. Once you've completed the analysis and write up, download this file as a PDF or HTML file and submit in the final section of this lesson.\n",
    "\n",
    "\n",
    "(1) What is the independent variable? What is the dependent variable?"
   ]
  },
  {
   "cell_type": "markdown",
   "metadata": {},
   "source": [
    "### --answer--\n",
    "In an experiment, researchers manipulate the independent variables, measure changes in the dependent variable and seek to control lurking variables. In this case, the independent variable is the incongruent/ the congruent words condition and the dependent variable is \"Time it takes to name the ink color\"."
   ]
  },
  {
   "cell_type": "markdown",
   "metadata": {},
   "source": [
    "(2) What is an appropriate set of hypotheses for this task? Specify your null and alternative hypotheses, and clearly define any notation used. Justify your choices."
   ]
  },
  {
   "cell_type": "markdown",
   "metadata": {},
   "source": [
    "### --answer--\n",
    "The null hypothesis is that there is no statistically significant difference between the population mean of the time it will take for the participants to do the test given the congruent words condition and that of the incongruent words condition:\n",
    "\n",
    "$$\\large H_0: \\mu_C = \\mu_I$$\n",
    "\n",
    "So, the alternative hypothesis is:\n",
    "\n",
    "- The population mean of the time it takes for the participants to do the test given the **incongruent** words condition is significantly different than that of the **congruent** words condition:\n",
    "$$\\large H_a: \\mu_C \\neq \\mu_I$$\n",
    "\n",
    "Where:\n",
    "\n",
    "- $\\large H_0$: the Null Hypothesis; \n",
    "- $\\large H_a$: the Alternative Hypothesis;\n",
    "- $\\large \\mu_C$: the Congruent Word Condition Population mean;\n",
    "- $\\large \\mu_I$: the Incongruent Word Condition Population mean;"
   ]
  },
  {
   "cell_type": "markdown",
   "metadata": {},
   "source": [
    "## The proposed Statistical Test\n",
    "\n",
    "Knowing our null and the alternative hypothesis, we need a rigorous statistical test to decide whether we reject or retain the null hypothesis. We need a Two Samples test, a comparison of data from one sample to data from a different sample to determine if the two populations they came from are the same. Here, we use a related (paired) t-test, as we are working with the same subjects (before and after pair of measuremnets). According to this [link](http://www.psychology.emory.edu/clinical/bliwise/Tutorials/TOM/meanstests/assump.htm) the assumptions for a paired t-test are listed below:\n",
    "\n",
    "* Interval or ratio scale of measurement (approximately interval)\n",
    "* Random sampling from a defined population\n",
    "* Samples or sets of data used to produce the difference scores are linked in the population through repeated measurement, natural association, or matching.\n",
    "* Scores are normally distributed in the population; difference scores are normally distributed\n",
    "\n",
    "Let's consider some facts about our populations:"
   ]
  },
  {
   "cell_type": "code",
   "execution_count": 10,
   "metadata": {},
   "outputs": [],
   "source": [
    "# Perform the analysis here\n",
    "import pandas as pd\n",
    "df = pd.read_csv('stroopdata.csv')"
   ]
  },
  {
   "cell_type": "markdown",
   "metadata": {},
   "source": [
    "- as you can see from the cell below, our samples have 24 records each.\n",
    "- the standard deviations and the means for the two different sets are presented below."
   ]
  },
  {
   "cell_type": "code",
   "execution_count": 9,
   "metadata": {},
   "outputs": [
    {
     "name": "stdout",
     "output_type": "stream",
     "text": [
      "size: 24\n",
      "Standard Deviation of Incongruent set: 4.797057122469138\n",
      "Standard Deviation of Congruent set: 3.559357957645195\n",
      "Population Mean of Congruent set: 14.051125000000004\n",
      "Population Mean of Incongruent set: 22.01591666666667\n"
     ]
    }
   ],
   "source": [
    "print ('size:', df.Congruent.size)\n",
    "print ('Standard Deviation of Incongruent set:', df.Incongruent.std())\n",
    "print ('Standard Deviation of Congruent set:', df.Congruent.std())\n",
    "\n",
    "print ('Population Mean of Congruent set:', df.Congruent.mean())\n",
    "print ('Population Mean of Incongruent set:', df.Incongruent.mean())"
   ]
  },
  {
   "cell_type": "markdown",
   "metadata": {},
   "source": [
    "(3) Report some descriptive statistics regarding this dataset. Include at least one measure of central tendency and at least one measure of variability. The name of the data file is 'stroopdata.csv'."
   ]
  },
  {
   "cell_type": "code",
   "execution_count": 50,
   "metadata": {},
   "outputs": [
    {
     "data": {
      "text/plain": [
       "Congruent      14.3565\n",
       "Incongruent    21.0175\n",
       "dtype: float64"
      ]
     },
     "execution_count": 50,
     "metadata": {},
     "output_type": "execute_result"
    }
   ],
   "source": [
    "df.median()"
   ]
  },
  {
   "cell_type": "code",
   "execution_count": 38,
   "metadata": {},
   "outputs": [
    {
     "data": {
      "text/html": [
       "<div>\n",
       "<style scoped>\n",
       "    .dataframe tbody tr th:only-of-type {\n",
       "        vertical-align: middle;\n",
       "    }\n",
       "\n",
       "    .dataframe tbody tr th {\n",
       "        vertical-align: top;\n",
       "    }\n",
       "\n",
       "    .dataframe thead th {\n",
       "        text-align: right;\n",
       "    }\n",
       "</style>\n",
       "<table border=\"1\" class=\"dataframe\">\n",
       "  <thead>\n",
       "    <tr style=\"text-align: right;\">\n",
       "      <th></th>\n",
       "      <th>Congruent</th>\n",
       "      <th>Incongruent</th>\n",
       "    </tr>\n",
       "  </thead>\n",
       "  <tbody>\n",
       "    <tr>\n",
       "      <th>count</th>\n",
       "      <td>24.000000</td>\n",
       "      <td>24.000000</td>\n",
       "    </tr>\n",
       "    <tr>\n",
       "      <th>mean</th>\n",
       "      <td>14.051125</td>\n",
       "      <td>22.015917</td>\n",
       "    </tr>\n",
       "    <tr>\n",
       "      <th>std</th>\n",
       "      <td>3.559358</td>\n",
       "      <td>4.797057</td>\n",
       "    </tr>\n",
       "    <tr>\n",
       "      <th>min</th>\n",
       "      <td>8.630000</td>\n",
       "      <td>15.687000</td>\n",
       "    </tr>\n",
       "    <tr>\n",
       "      <th>25%</th>\n",
       "      <td>11.895250</td>\n",
       "      <td>18.716750</td>\n",
       "    </tr>\n",
       "    <tr>\n",
       "      <th>50%</th>\n",
       "      <td>14.356500</td>\n",
       "      <td>21.017500</td>\n",
       "    </tr>\n",
       "    <tr>\n",
       "      <th>75%</th>\n",
       "      <td>16.200750</td>\n",
       "      <td>24.051500</td>\n",
       "    </tr>\n",
       "    <tr>\n",
       "      <th>max</th>\n",
       "      <td>22.328000</td>\n",
       "      <td>35.255000</td>\n",
       "    </tr>\n",
       "  </tbody>\n",
       "</table>\n",
       "</div>"
      ],
      "text/plain": [
       "       Congruent  Incongruent\n",
       "count  24.000000    24.000000\n",
       "mean   14.051125    22.015917\n",
       "std     3.559358     4.797057\n",
       "min     8.630000    15.687000\n",
       "25%    11.895250    18.716750\n",
       "50%    14.356500    21.017500\n",
       "75%    16.200750    24.051500\n",
       "max    22.328000    35.255000"
      ]
     },
     "execution_count": 38,
     "metadata": {},
     "output_type": "execute_result"
    }
   ],
   "source": [
    "df.describe()"
   ]
  },
  {
   "cell_type": "markdown",
   "metadata": {},
   "source": [
    "### --answer--\n",
    "the above table has provided some very useful stats about the dataset for both Congruent and Incongruent data sets"
   ]
  },
  {
   "cell_type": "markdown",
   "metadata": {},
   "source": [
    "(4) Provide one or two visualizations that show the distribution of the sample data. Write one or two sentences noting what you observe about the plot or plots."
   ]
  },
  {
   "cell_type": "code",
   "execution_count": 31,
   "metadata": {},
   "outputs": [
    {
     "data": {
      "image/png": "[encoded data removed]",
      "text/plain": [
       "<matplotlib.figure.Figure at 0x1c07cdd8cf8>"
      ]
     },
     "metadata": {},
     "output_type": "display_data"
    }
   ],
   "source": [
    "# Build the visualizations here\n",
    "import matplotlib.pyplot as plt\n",
    "from matplotlib import rcParams\n",
    "import matplotlib as mpl\n",
    "import seaborn as sb\n",
    "import numpy as np\n",
    "\n",
    "%matplotlib inline\n",
    "rcParams['figure.figsize'] = 5, 4\n",
    "sb.set_style('whitegrid')\n",
    "\n",
    "congruent_data = df.Congruent\n",
    "incongruent_data = df.Incongruent\n",
    "\n",
    "my_plot = sb.distplot(congruent_data, bins=5, color='blue')\n",
    "\n",
    "axes = my_plot.axes\n",
    "axes.set_xlim(5,40)\n",
    "axes.set_ylim(0,0.15);"
   ]
  },
  {
   "cell_type": "code",
   "execution_count": 32,
   "metadata": {
    "scrolled": true
   },
   "outputs": [
    {
     "data": {
      "image/png": "[encoded data removed]",
      "text/plain": [
       "<matplotlib.figure.Figure at 0x1c07ce5eb38>"
      ]
     },
     "metadata": {},
     "output_type": "display_data"
    }
   ],
   "source": [
    "my_plot2 = sb.distplot(incongruent_data, bins=5, color='salmon')\n",
    "axes = my_plot2.axes\n",
    "axes.set_xlim(5,40)\n",
    "axes.set_ylim(0,0.15);"
   ]
  },
  {
   "cell_type": "code",
   "execution_count": 27,
   "metadata": {},
   "outputs": [
    {
     "data": {
      "image/png": "[encoded data removed]",
      "text/plain": [
       "<matplotlib.figure.Figure at 0x1c07cd2d898>"
      ]
     },
     "metadata": {},
     "output_type": "display_data"
    }
   ],
   "source": [
    "my_plot3 = sb.boxplot(data=df, palette='hls')"
   ]
  },
  {
   "cell_type": "markdown",
   "metadata": {},
   "source": [
    "### --answer--\n",
    "As we can see from the plots above, the two datasets have rather different distribution (Shown by Histogram plots). Incongrunet dataset has a median value of around _21_ but the congruent set has a median of approximately _14_ which is apparent in the Box Plots. This shows that on average it took longer for the participants to complete the test in case of the Incongruent condition copared to that of the congruent condition. "
   ]
  },
  {
   "cell_type": "markdown",
   "metadata": {},
   "source": [
    "(5)  Now, perform the statistical test and report your results. What is your confidence level or Type I error associated with your test? What is your conclusion regarding the hypotheses you set up? Did the results match up with your expectations? **Hint:**  Think about what is being measured on each individual, and what statistic best captures how an individual reacts in each environment."
   ]
  },
  {
   "cell_type": "markdown",
   "metadata": {},
   "source": [
    "### --answer--\n",
    "We deal with the paired t-test here and the relevant Python stats are used. The test measures whether the average (expected) value differs significantly across samples. If we observe a large p-value, for instance larger than 0.05, then we retain the null hypothesis of identical average scores.\n",
    "\n",
    "In this case, we have observed a very small p-value indicating that there is a statistically significant difference between the two sample means, so we reject the null hypothesis of equal averages.\n",
    "\n",
    "This explains the finding that naming the ink of congruent stimuli is faster than when subjects were tested on naming colors of incompatible words. So, statistically, the Congruent and Incongruent words conditions have an influence on the test results. It is compatible with what we would expect if we did the test."
   ]
  },
  {
   "cell_type": "code",
   "execution_count": 35,
   "metadata": {},
   "outputs": [
    {
     "name": "stdout",
     "output_type": "stream",
     "text": [
      "pvalue =  4.103000585711178e-08\n"
     ]
    }
   ],
   "source": [
    "# Perform the statistical test here\n",
    "import scipy.stats as stats\n",
    "\n",
    "statistic,pvalue = stats.ttest_rel(congruent_data, incongruent_data)\n",
    "print ('pvalue = ', pvalue)"
   ]
  },
  {
   "cell_type": "markdown",
   "metadata": {},
   "source": [
    "(6) Optional: What do you think is responsible for the effects observed? Can you think of an alternative or similar task that would result in a similar effect? Some research about the problem will be helpful for thinking about these two questions!"
   ]
  },
  {
   "cell_type": "markdown",
   "metadata": {},
   "source": [
    "--write answer here--"
   ]
  }
 ],
 "metadata": {
  "kernelspec": {
   "display_name": "Python [conda root]",
   "language": "python",
   "name": "conda-root-py"
  },
  "language_info": {
   "codemirror_mode": {
    "name": "ipython",
    "version": 3
   },
   "file_extension": ".py",
   "mimetype": "text/x-python",
   "name": "python",
   "nbconvert_exporter": "python",
   "pygments_lexer": "ipython3",
   "version": "3.5.5"
  }
 },
 "nbformat": 4,
 "nbformat_minor": 2
}
